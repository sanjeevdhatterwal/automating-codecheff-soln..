{
 "cells": [
  {
   "cell_type": "markdown",
   "id": "be49c590",
   "metadata": {},
   "source": [
    "selenium is basically a java package but works well with python too\n",
    "By package is used for generating the function like opening any given link\n",
    "we are creating an automatic chrome windows that will be controlled by the set of code written down\n",
    "we have downloaded the chrome web driver extension for the selenium "
   ]
  },
  {
   "cell_type": "code",
   "execution_count": 151,
   "id": "53076dbf",
   "metadata": {},
   "outputs": [],
   "source": [
    "from selenium import webdriver\n",
    "from selenium.webdriver.common.by import By"
   ]
  },
  {
   "cell_type": "code",
   "execution_count": 152,
   "id": "67ef5443",
   "metadata": {},
   "outputs": [],
   "source": [
    "browser=webdriver.Chrome()#open the chrome window"
   ]
  },
  {
   "cell_type": "code",
   "execution_count": 153,
   "id": "09dcc28b",
   "metadata": {},
   "outputs": [],
   "source": [
    "browser.get(\"https://leetcode.com/accounts/login/\")#open the given site"
   ]
  },
  {
   "cell_type": "code",
   "execution_count": 154,
   "id": "56f5baef",
   "metadata": {},
   "outputs": [],
   "source": [
    "# browser.find_element(By.PARTIAL_LINK_TEXT,\"Login\").click()#run this command only after the former command s"
   ]
  },
  {
   "cell_type": "code",
   "execution_count": 155,
   "id": "7ddd8551",
   "metadata": {},
   "outputs": [],
   "source": [
    "u_name=browser.find_element(\"id\",\"id_login\")\n",
    "# find the html element with id name "
   ]
  },
  {
   "cell_type": "code",
   "execution_count": 156,
   "id": "74594fe6",
   "metadata": {},
   "outputs": [],
   "source": [
    "u_name.send_keys(\"sanjeev_dhatterwal_\")\n",
    "# send the given string to the uname html element"
   ]
  },
  {
   "cell_type": "code",
   "execution_count": 157,
   "id": "6b364bc9",
   "metadata": {},
   "outputs": [],
   "source": [
    "password=browser.find_element(\"id\",\"id_password\")"
   ]
  },
  {
   "cell_type": "code",
   "execution_count": 158,
   "id": "202a3fe1",
   "metadata": {},
   "outputs": [],
   "source": [
    "password.send_keys(\"123fouR56@\")"
   ]
  },
  {
   "cell_type": "code",
   "execution_count": 159,
   "id": "e059c596",
   "metadata": {},
   "outputs": [],
   "source": [
    "browser.find_element(By.CLASS_NAME,\"btn-content-container__2HVS\").click()# find the element by link name sign in and then click on it"
   ]
  },
  {
   "cell_type": "code",
   "execution_count": 161,
   "id": "151863dc",
   "metadata": {},
   "outputs": [],
   "source": [
    "browser.find_element(By.PARTIAL_LINK_TEXT,\"Problems\").click()"
   ]
  },
  {
   "cell_type": "code",
   "execution_count": 162,
   "id": "9617b96c",
   "metadata": {},
   "outputs": [],
   "source": [
    "browser.find_element(By.PARTIAL_LINK_TEXT,'3Sum').click()\n"
   ]
  },
  {
   "cell_type": "code",
   "execution_count": 140,
   "id": "77a9fb3b",
   "metadata": {},
   "outputs": [],
   "source": [
    "# browser.find_element(\"id\",\"headlessui-listbox-button-:r1f:\").click()#this command will open the option to change the language"
   ]
  },
  {
   "cell_type": "code",
   "execution_count": 141,
   "id": "50faecf0",
   "metadata": {},
   "outputs": [
    {
     "ename": "InvalidSelectorException",
     "evalue": "Message: invalid selector: An invalid or illegal selector was specified\n  (Session info: chrome=111.0.5563.65)\nStacktrace:\nBacktrace:\n\t(No symbol) [0x0102DCE3]\n\t(No symbol) [0x00FC39D1]\n\t(No symbol) [0x00ED4DA8]\n\t(No symbol) [0x00ED76FB]\n\t(No symbol) [0x00ED75D0]\n\t(No symbol) [0x00ED7850]\n\t(No symbol) [0x00EFFDF8]\n\t(No symbol) [0x00F003AB]\n\t(No symbol) [0x00F2EE62]\n\t(No symbol) [0x00F1AF14]\n\t(No symbol) [0x00F2D57C]\n\t(No symbol) [0x00F1ACC6]\n\t(No symbol) [0x00EF6F68]\n\t(No symbol) [0x00EF80CD]\n\tGetHandleVerifier [0x012A3832+2506274]\n\tGetHandleVerifier [0x012D9794+2727300]\n\tGetHandleVerifier [0x012DE36C+2746716]\n\tGetHandleVerifier [0x010D6690+617600]\n\t(No symbol) [0x00FCC712]\n\t(No symbol) [0x00FD1FF8]\n\t(No symbol) [0x00FD20DB]\n\t(No symbol) [0x00FDC63B]\n\tBaseThreadInitThunk [0x761F7D69+25]\n\tRtlInitializeExceptionChain [0x77C4BB9B+107]\n\tRtlClearBits [0x77C4BB1F+191]\n",
     "output_type": "error",
     "traceback": [
      "\u001b[1;31m---------------------------------------------------------------------------\u001b[0m",
      "\u001b[1;31mInvalidSelectorException\u001b[0m                  Traceback (most recent call last)",
      "\u001b[1;32m<ipython-input-141-8636ddaf4abe>\u001b[0m in \u001b[0;36m<module>\u001b[1;34m\u001b[0m\n\u001b[1;32m----> 1\u001b[1;33m \u001b[0mbrowser\u001b[0m\u001b[1;33m.\u001b[0m\u001b[0mfind_element\u001b[0m\u001b[1;33m(\u001b[0m\u001b[0mBy\u001b[0m\u001b[1;33m.\u001b[0m\u001b[0mCLASS_NAME\u001b[0m\u001b[1;33m,\u001b[0m\u001b[1;34m\"flex h-5 flex-1 items-center pr-2 text-label-1 dark:text-dark-label-1 font-medium\"\u001b[0m\u001b[1;33m)\u001b[0m\u001b[1;33m.\u001b[0m\u001b[0mclick\u001b[0m\u001b[1;33m(\u001b[0m\u001b[1;33m)\u001b[0m\u001b[1;33m\u001b[0m\u001b[1;33m\u001b[0m\u001b[0m\n\u001b[0m",
      "\u001b[1;32m~\\anaconda3\\lib\\site-packages\\selenium\\webdriver\\remote\\webdriver.py\u001b[0m in \u001b[0;36mfind_element\u001b[1;34m(self, by, value)\u001b[0m\n\u001b[0;32m    828\u001b[0m             \u001b[0mvalue\u001b[0m \u001b[1;33m=\u001b[0m \u001b[1;34mf'[name=\"{value}\"]'\u001b[0m\u001b[1;33m\u001b[0m\u001b[1;33m\u001b[0m\u001b[0m\n\u001b[0;32m    829\u001b[0m \u001b[1;33m\u001b[0m\u001b[0m\n\u001b[1;32m--> 830\u001b[1;33m         \u001b[1;32mreturn\u001b[0m \u001b[0mself\u001b[0m\u001b[1;33m.\u001b[0m\u001b[0mexecute\u001b[0m\u001b[1;33m(\u001b[0m\u001b[0mCommand\u001b[0m\u001b[1;33m.\u001b[0m\u001b[0mFIND_ELEMENT\u001b[0m\u001b[1;33m,\u001b[0m \u001b[1;33m{\u001b[0m\u001b[1;34m\"using\"\u001b[0m\u001b[1;33m:\u001b[0m \u001b[0mby\u001b[0m\u001b[1;33m,\u001b[0m \u001b[1;34m\"value\"\u001b[0m\u001b[1;33m:\u001b[0m \u001b[0mvalue\u001b[0m\u001b[1;33m}\u001b[0m\u001b[1;33m)\u001b[0m\u001b[1;33m[\u001b[0m\u001b[1;34m\"value\"\u001b[0m\u001b[1;33m]\u001b[0m\u001b[1;33m\u001b[0m\u001b[1;33m\u001b[0m\u001b[0m\n\u001b[0m\u001b[0;32m    831\u001b[0m \u001b[1;33m\u001b[0m\u001b[0m\n\u001b[0;32m    832\u001b[0m     \u001b[1;32mdef\u001b[0m \u001b[0mfind_elements\u001b[0m\u001b[1;33m(\u001b[0m\u001b[0mself\u001b[0m\u001b[1;33m,\u001b[0m \u001b[0mby\u001b[0m\u001b[1;33m=\u001b[0m\u001b[0mBy\u001b[0m\u001b[1;33m.\u001b[0m\u001b[0mID\u001b[0m\u001b[1;33m,\u001b[0m \u001b[0mvalue\u001b[0m\u001b[1;33m:\u001b[0m \u001b[0mOptional\u001b[0m\u001b[1;33m[\u001b[0m\u001b[0mstr\u001b[0m\u001b[1;33m]\u001b[0m \u001b[1;33m=\u001b[0m \u001b[1;32mNone\u001b[0m\u001b[1;33m)\u001b[0m \u001b[1;33m->\u001b[0m \u001b[0mList\u001b[0m\u001b[1;33m[\u001b[0m\u001b[0mWebElement\u001b[0m\u001b[1;33m]\u001b[0m\u001b[1;33m:\u001b[0m\u001b[1;33m\u001b[0m\u001b[1;33m\u001b[0m\u001b[0m\n",
      "\u001b[1;32m~\\anaconda3\\lib\\site-packages\\selenium\\webdriver\\remote\\webdriver.py\u001b[0m in \u001b[0;36mexecute\u001b[1;34m(self, driver_command, params)\u001b[0m\n\u001b[0;32m    438\u001b[0m         \u001b[0mresponse\u001b[0m \u001b[1;33m=\u001b[0m \u001b[0mself\u001b[0m\u001b[1;33m.\u001b[0m\u001b[0mcommand_executor\u001b[0m\u001b[1;33m.\u001b[0m\u001b[0mexecute\u001b[0m\u001b[1;33m(\u001b[0m\u001b[0mdriver_command\u001b[0m\u001b[1;33m,\u001b[0m \u001b[0mparams\u001b[0m\u001b[1;33m)\u001b[0m\u001b[1;33m\u001b[0m\u001b[1;33m\u001b[0m\u001b[0m\n\u001b[0;32m    439\u001b[0m         \u001b[1;32mif\u001b[0m \u001b[0mresponse\u001b[0m\u001b[1;33m:\u001b[0m\u001b[1;33m\u001b[0m\u001b[1;33m\u001b[0m\u001b[0m\n\u001b[1;32m--> 440\u001b[1;33m             \u001b[0mself\u001b[0m\u001b[1;33m.\u001b[0m\u001b[0merror_handler\u001b[0m\u001b[1;33m.\u001b[0m\u001b[0mcheck_response\u001b[0m\u001b[1;33m(\u001b[0m\u001b[0mresponse\u001b[0m\u001b[1;33m)\u001b[0m\u001b[1;33m\u001b[0m\u001b[1;33m\u001b[0m\u001b[0m\n\u001b[0m\u001b[0;32m    441\u001b[0m             \u001b[0mresponse\u001b[0m\u001b[1;33m[\u001b[0m\u001b[1;34m\"value\"\u001b[0m\u001b[1;33m]\u001b[0m \u001b[1;33m=\u001b[0m \u001b[0mself\u001b[0m\u001b[1;33m.\u001b[0m\u001b[0m_unwrap_value\u001b[0m\u001b[1;33m(\u001b[0m\u001b[0mresponse\u001b[0m\u001b[1;33m.\u001b[0m\u001b[0mget\u001b[0m\u001b[1;33m(\u001b[0m\u001b[1;34m\"value\"\u001b[0m\u001b[1;33m,\u001b[0m \u001b[1;32mNone\u001b[0m\u001b[1;33m)\u001b[0m\u001b[1;33m)\u001b[0m\u001b[1;33m\u001b[0m\u001b[1;33m\u001b[0m\u001b[0m\n\u001b[0;32m    442\u001b[0m             \u001b[1;32mreturn\u001b[0m \u001b[0mresponse\u001b[0m\u001b[1;33m\u001b[0m\u001b[1;33m\u001b[0m\u001b[0m\n",
      "\u001b[1;32m~\\anaconda3\\lib\\site-packages\\selenium\\webdriver\\remote\\errorhandler.py\u001b[0m in \u001b[0;36mcheck_response\u001b[1;34m(self, response)\u001b[0m\n\u001b[0;32m    243\u001b[0m                 \u001b[0malert_text\u001b[0m \u001b[1;33m=\u001b[0m \u001b[0mvalue\u001b[0m\u001b[1;33m[\u001b[0m\u001b[1;34m\"alert\"\u001b[0m\u001b[1;33m]\u001b[0m\u001b[1;33m.\u001b[0m\u001b[0mget\u001b[0m\u001b[1;33m(\u001b[0m\u001b[1;34m\"text\"\u001b[0m\u001b[1;33m)\u001b[0m\u001b[1;33m\u001b[0m\u001b[1;33m\u001b[0m\u001b[0m\n\u001b[0;32m    244\u001b[0m             \u001b[1;32mraise\u001b[0m \u001b[0mexception_class\u001b[0m\u001b[1;33m(\u001b[0m\u001b[0mmessage\u001b[0m\u001b[1;33m,\u001b[0m \u001b[0mscreen\u001b[0m\u001b[1;33m,\u001b[0m \u001b[0mstacktrace\u001b[0m\u001b[1;33m,\u001b[0m \u001b[0malert_text\u001b[0m\u001b[1;33m)\u001b[0m  \u001b[1;31m# type: ignore[call-arg]  # mypy is not smart enough here\u001b[0m\u001b[1;33m\u001b[0m\u001b[1;33m\u001b[0m\u001b[0m\n\u001b[1;32m--> 245\u001b[1;33m         \u001b[1;32mraise\u001b[0m \u001b[0mexception_class\u001b[0m\u001b[1;33m(\u001b[0m\u001b[0mmessage\u001b[0m\u001b[1;33m,\u001b[0m \u001b[0mscreen\u001b[0m\u001b[1;33m,\u001b[0m \u001b[0mstacktrace\u001b[0m\u001b[1;33m)\u001b[0m\u001b[1;33m\u001b[0m\u001b[1;33m\u001b[0m\u001b[0m\n\u001b[0m",
      "\u001b[1;31mInvalidSelectorException\u001b[0m: Message: invalid selector: An invalid or illegal selector was specified\n  (Session info: chrome=111.0.5563.65)\nStacktrace:\nBacktrace:\n\t(No symbol) [0x0102DCE3]\n\t(No symbol) [0x00FC39D1]\n\t(No symbol) [0x00ED4DA8]\n\t(No symbol) [0x00ED76FB]\n\t(No symbol) [0x00ED75D0]\n\t(No symbol) [0x00ED7850]\n\t(No symbol) [0x00EFFDF8]\n\t(No symbol) [0x00F003AB]\n\t(No symbol) [0x00F2EE62]\n\t(No symbol) [0x00F1AF14]\n\t(No symbol) [0x00F2D57C]\n\t(No symbol) [0x00F1ACC6]\n\t(No symbol) [0x00EF6F68]\n\t(No symbol) [0x00EF80CD]\n\tGetHandleVerifier [0x012A3832+2506274]\n\tGetHandleVerifier [0x012D9794+2727300]\n\tGetHandleVerifier [0x012DE36C+2746716]\n\tGetHandleVerifier [0x010D6690+617600]\n\t(No symbol) [0x00FCC712]\n\t(No symbol) [0x00FD1FF8]\n\t(No symbol) [0x00FD20DB]\n\t(No symbol) [0x00FDC63B]\n\tBaseThreadInitThunk [0x761F7D69+25]\n\tRtlInitializeExceptionChain [0x77C4BB9B+107]\n\tRtlClearBits [0x77C4BB1F+191]\n"
     ]
    }
   ],
   "source": [
    "# i am using the code for c++ if you want ot change the command than put the class id of the language chosen after running the previus command\n",
    "# browser.find_element(By.CLASS_NAME,\"flex h-5 flex-1 items-center pr-2 text-label-1 dark:text-dark-label-1 font-medium\").click()"
   ]
  },
  {
   "cell_type": "code",
   "execution_count": 163,
   "id": "0687309d",
   "metadata": {},
   "outputs": [],
   "source": [
    "with open(\"3sum.cpp\",'r') as file:\n",
    "    s=file.read()"
   ]
  },
  {
   "cell_type": "code",
   "execution_count": 179,
   "id": "8b722c71",
   "metadata": {},
   "outputs": [],
   "source": [
    "code=browser.find_element(By.CLASS_NAME,\"mtk1\")\n",
    "# code1=browser.find_element(By.CLASS_NAME,\"inputarea monaco-mouse-cursor-text\")#finding the text area wher code is to be run"
   ]
  },
  {
   "cell_type": "code",
   "execution_count": 190,
   "id": "44374928",
   "metadata": {},
   "outputs": [],
   "source": [
    "code.click()#clicking on the area selected"
   ]
  },
  {
   "cell_type": "code",
   "execution_count": 193,
   "id": "10a23c74",
   "metadata": {},
   "outputs": [
    {
     "data": {
      "text/plain": [
       "'none'"
      ]
     },
     "execution_count": 193,
     "metadata": {},
     "output_type": "execute_result"
    }
   ],
   "source": [
    "\n"
   ]
  },
  {
   "cell_type": "code",
   "execution_count": null,
   "id": "a7cd1b00",
   "metadata": {},
   "outputs": [],
   "source": []
  }
 ],
 "metadata": {
  "kernelspec": {
   "display_name": "Python 3",
   "language": "python",
   "name": "python3"
  },
  "language_info": {
   "codemirror_mode": {
    "name": "ipython",
    "version": 3
   },
   "file_extension": ".py",
   "mimetype": "text/x-python",
   "name": "python",
   "nbconvert_exporter": "python",
   "pygments_lexer": "ipython3",
   "version": "3.8.8"
  }
 },
 "nbformat": 4,
 "nbformat_minor": 5
}
